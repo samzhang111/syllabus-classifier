{
 "cells": [
  {
   "cell_type": "markdown",
   "metadata": {},
   "source": [
    "#OSP Syllabus Classification\n",
    "\n",
    "Is a document a document or a syllabus? Using tagged training data, we are about to find out..."
   ]
  },
  {
   "cell_type": "code",
   "execution_count": 21,
   "metadata": {
    "collapsed": false
   },
   "outputs": [],
   "source": [
    "from osp.corpus.syllabus import Syllabus\n",
    "import pandas as pd\n",
    "import numpy as np\n",
    "import scipy\n",
    "\n",
    "from sklearn.pipeline import Pipeline\n",
    "from sklearn.feature_extraction.text import CountVectorizer, TfidfTransformer\n",
    "from sklearn.naive_bayes import MultinomialNB\n",
    "from sklearn.cross_validation import ShuffleSplit, cross_val_score\n",
    "from sklearn.grid_search import GridSearchCV"
   ]
  },
  {
   "cell_type": "code",
   "execution_count": 2,
   "metadata": {
    "collapsed": false
   },
   "outputs": [
    {
     "name": "stdout",
     "output_type": "stream",
     "text": [
      "Index(['﻿\"id\"', 'title', 'text', 'url', 'tags'], dtype='object') 84340\n"
     ]
    }
   ],
   "source": [
    "raw_training_df = pd.read_csv('/home/ubuntu/osp-tagging.csv')\n",
    "print(raw_training_df.columns, raw_training_df.size)"
   ]
  },
  {
   "cell_type": "markdown",
   "metadata": {},
   "source": [
    "There are many syllabi in the training data that were not tagged. They have an empty value in the tags field that is stored as a float. Remove them, as well as tagged entries with a null in the text field."
   ]
  },
  {
   "cell_type": "code",
   "execution_count": 11,
   "metadata": {
    "collapsed": false
   },
   "outputs": [
    {
     "name": "stdout",
     "output_type": "stream",
     "text": [
      "Raw row count: (16868, 5), labeled row count: (772, 5)\n"
     ]
    }
   ],
   "source": [
    "training_df = raw_training_df[raw_training_df.tags.apply(\n",
    "        lambda x: isinstance(x, str)) & ~raw_training_df.text.isnull()]\n",
    "\n",
    "print(\"Raw row count: {}, labeled row count: {}\".format(raw_training_df.shape, training_df.shape))"
   ]
  },
  {
   "cell_type": "markdown",
   "metadata": {},
   "source": [
    "The training data is tagged from the Overview project interface. Several different tags were available:\n",
    "\n",
    "- Course Description\n",
    "- \"Course Description,Not Syllabus\"\n",
    "- Lab Syllabus\n",
    "- Lesson or Lecture\n",
    "- \"No Citations,Syllabus\"\n",
    "- Not Syllabus\n",
    "- Reading List\n",
    "- \"Reading List,Syllabus\"\n",
    "- Syllabus\n",
    "- \"Syllabus,Lab Syllabus\"\n",
    "- \"Syllabus,No Citations\"\n",
    "- \"Syllabus,No Citations,Odd for some reason\"\n",
    "- \"Syllabus,Odd for some reason\"\n",
    "- \"Syllabus,Odd for some reason,No Citations\"\n",
    "\n",
    "This is a classifier to split syllabi from not, so as long as a document is a syllabus, regardless whether it has citations or not, or whether it is odd, it will be considered a syllabus."
   ]
  },
  {
   "cell_type": "code",
   "execution_count": 12,
   "metadata": {
    "collapsed": false
   },
   "outputs": [
    {
     "name": "stdout",
     "output_type": "stream",
     "text": [
      "Positive examples: (301, 5), negative examples: (471, 5)\n"
     ]
    }
   ],
   "source": [
    "def is_syllabus_tag(tag):\n",
    "    try:\n",
    "        return 'syllabus' in tag.lower() and 'not syllabus' not in tag.lower()\n",
    "    except AttributeError:\n",
    "        return False\n",
    "\n",
    "is_syllabus = training_df.tags.apply(is_syllabus_tag)\n",
    "positive_examples_df = training_df[is_syllabus]\n",
    "negative_examples_df = training_df[~is_syllabus]\n",
    "\n",
    "print('Positive examples: {}, negative examples: {}'.format(positive_examples_df.shape, negative_examples_df.shape))"
   ]
  },
  {
   "cell_type": "markdown",
   "metadata": {},
   "source": [
    "We tokenize the syllabus text in the positive and negative examples, and featurize them for a classifier.\n",
    "\n",
    "First pass: tf-idf features of text tokens, classified using naive bayes."
   ]
  },
  {
   "cell_type": "code",
   "execution_count": 18,
   "metadata": {
    "collapsed": false
   },
   "outputs": [],
   "source": [
    "text_clf = Pipeline([('vect', CountVectorizer()),\n",
    "                      ('tfidf', TfidfTransformer()),\n",
    "                      ('clf', MultinomialNB()),\n",
    "])"
   ]
  },
  {
   "cell_type": "code",
   "execution_count": 20,
   "metadata": {
    "collapsed": false
   },
   "outputs": [
    {
     "data": {
      "text/plain": [
       "0.87150259067357505"
      ]
     },
     "execution_count": 20,
     "metadata": {},
     "output_type": "execute_result"
    }
   ],
   "source": [
    "ss = ShuffleSplit(len(training_df), test_size=0.25, random_state=983214)\n",
    "cv_results = cross_val_score(text_clf, training_df.text.values, is_syllabus.values, cv=ss)\n",
    "cv_results.mean()"
   ]
  },
  {
   "cell_type": "code",
   "execution_count": 26,
   "metadata": {
    "collapsed": false
   },
   "outputs": [
    {
     "data": {
      "text/plain": [
       "0.94591548490478239"
      ]
     },
     "execution_count": 26,
     "metadata": {},
     "output_type": "execute_result"
    }
   ],
   "source": [
    "ss = ShuffleSplit(len(training_df), test_size=0.25, random_state=983214)\n",
    "cv_results = cross_val_score(text_clf, training_df.text.values, is_syllabus.values, cv=ss, scoring='roc_auc')\n",
    "cv_results.mean()"
   ]
  },
  {
   "cell_type": "markdown",
   "metadata": {},
   "source": [
    "We get 87.15% mean accuracy and 94.59% mean ROC using out-of-the-box features and the multinomial NB classifier. Let's try tuning the feature set a little."
   ]
  },
  {
   "cell_type": "code",
   "execution_count": 24,
   "metadata": {
    "collapsed": false
   },
   "outputs": [
    {
     "name": "stdout",
     "output_type": "stream",
     "text": [
      "Fitting 3 folds for each of 6 candidates, totalling 18 fits\n"
     ]
    },
    {
     "name": "stderr",
     "output_type": "stream",
     "text": [
      "[Parallel(n_jobs=-1)]: Done   1 jobs       | elapsed:   10.3s\n",
      "[Parallel(n_jobs=-1)]: Done  12 out of  18 | elapsed:  1.3min remaining:   38.8s\n",
      "[Parallel(n_jobs=-1)]: Done  18 out of  18 | elapsed:  1.8min finished\n"
     ]
    },
    {
     "name": "stdout",
     "output_type": "stream",
     "text": [
      "Best score: 0.845\n",
      "Best parameters set:\n",
      "\tvect__max_df: 0.5\n",
      "\tvect__ngram_range: (1, 2)\n"
     ]
    }
   ],
   "source": [
    "parameters = {\n",
    "    'vect__max_df': (0.5, 0.75, 1.0),\n",
    "    #'vect__max_features': (None, 5000, 10000, 50000),\n",
    "    'vect__ngram_range': ((1, 1), (1, 2)),  # unigrams or bigrams\n",
    "    #'tfidf__use_idf': (True, False),\n",
    "    #'tfidf__norm': ('l1', 'l2')\n",
    "}\n",
    "\n",
    "grid_search = GridSearchCV(text_clf, parameters, n_jobs=-1, verbose=1)\n",
    "grid_search.fit(training_df.text.values, is_syllabus.values)\n",
    "print(\"Best score: %0.3f\" % grid_search.best_score_)\n",
    "print(\"Best parameters set:\")\n",
    "best_parameters = grid_search.best_estimator_.get_params()\n",
    "for param_name in sorted(parameters.keys()):\n",
    "    print(\"\\t%s: %r\" % (param_name, best_parameters[param_name]))"
   ]
  },
  {
   "cell_type": "markdown",
   "metadata": {},
   "source": [
    "In this grid search across parameters, having a cutoff that eliminates words with document frequency above 0"
   ]
  }
 ],
 "metadata": {
  "kernelspec": {
   "display_name": "Python 3",
   "language": "python",
   "name": "python3"
  },
  "language_info": {
   "codemirror_mode": {
    "name": "ipython",
    "version": 3
   },
   "file_extension": ".py",
   "mimetype": "text/x-python",
   "name": "python",
   "nbconvert_exporter": "python",
   "pygments_lexer": "ipython3",
   "version": "3.4.0"
  }
 },
 "nbformat": 4,
 "nbformat_minor": 0
}
