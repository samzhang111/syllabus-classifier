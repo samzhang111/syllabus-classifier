{
 "cells": [
  {
   "cell_type": "markdown",
   "metadata": {},
   "source": [
    "#OSP Syllabus Classification\n",
    "\n",
    "Is a document a document or a syllabus? Using tagged training data, we set out to find out..."
   ]
  },
  {
   "cell_type": "code",
   "execution_count": 77,
   "metadata": {
    "collapsed": false
   },
   "outputs": [],
   "source": [
    "from osp.corpus.syllabus import Syllabus\n",
    "import pandas as pd\n",
    "import numpy as np\n",
    "import scipy\n",
    "\n",
    "import matplotlib.pyplot as plt\n",
    "%matplotlib inline\n",
    "\n",
    "from sklearn.pipeline import Pipeline\n",
    "from sklearn.feature_extraction.text import CountVectorizer, TfidfTransformer\n",
    "from sklearn.naive_bayes import MultinomialNB\n",
    "from sklearn.cross_validation import KFold, cross_val_score\n",
    "from sklearn.grid_search import GridSearchCV\n",
    "from sklearn.metrics import roc_curve, roc_auc_score"
   ]
  },
  {
   "cell_type": "code",
   "execution_count": 2,
   "metadata": {
    "collapsed": false
   },
   "outputs": [
    {
     "name": "stdout",
     "output_type": "stream",
     "text": [
      "Index(['﻿\"id\"', 'title', 'text', 'url', 'tags'], dtype='object') 84340\n"
     ]
    }
   ],
   "source": [
    "raw_training_df = pd.read_csv('/home/ubuntu/osp-tagging.csv')\n",
    "print(raw_training_df.columns, raw_training_df.size)"
   ]
  },
  {
   "cell_type": "markdown",
   "metadata": {},
   "source": [
    "There are many syllabi in the training data that were not tagged. They have an empty value in the tags field that is stored as a float. Remove them, as well as tagged entries with a null in the text field."
   ]
  },
  {
   "cell_type": "code",
   "execution_count": 43,
   "metadata": {
    "collapsed": false
   },
   "outputs": [
    {
     "name": "stdout",
     "output_type": "stream",
     "text": [
      "Raw row count: (16868, 5), labeled row count: (772, 6)\n"
     ]
    }
   ],
   "source": [
    "training_df = raw_training_df[raw_training_df.tags.apply(\n",
    "        lambda x: isinstance(x, str)) & ~raw_training_df.text.isnull()]\n",
    "\n",
    "training_df.reset_index(inplace=True)\n",
    "print(\"Raw row count: {}, labeled row count: {}\".format(raw_training_df.shape, training_df.shape))"
   ]
  },
  {
   "cell_type": "markdown",
   "metadata": {},
   "source": [
    "The training data is tagged from the Overview project interface. Several different tags were available:\n",
    "\n",
    "- Course Description\n",
    "- \"Course Description,Not Syllabus\"\n",
    "- Lab Syllabus\n",
    "- Lesson or Lecture\n",
    "- \"No Citations,Syllabus\"\n",
    "- Not Syllabus\n",
    "- Reading List\n",
    "- \"Reading List,Syllabus\"\n",
    "- Syllabus\n",
    "- \"Syllabus,Lab Syllabus\"\n",
    "- \"Syllabus,No Citations\"\n",
    "- \"Syllabus,No Citations,Odd for some reason\"\n",
    "- \"Syllabus,Odd for some reason\"\n",
    "- \"Syllabus,Odd for some reason,No Citations\"\n",
    "\n",
    "This is a classifier to split syllabi from not, so as long as a document is a syllabus, regardless whether it has citations or not, or whether it is odd, it will be considered a syllabus."
   ]
  },
  {
   "cell_type": "code",
   "execution_count": 44,
   "metadata": {
    "collapsed": false
   },
   "outputs": [
    {
     "name": "stdout",
     "output_type": "stream",
     "text": [
      "Positive examples: (301, 6), negative examples: (471, 6)\n"
     ]
    }
   ],
   "source": [
    "def is_syllabus_tag(tag):\n",
    "    try:\n",
    "        return 'syllabus' in tag.lower() and 'not syllabus' not in tag.lower()\n",
    "    except AttributeError:\n",
    "        return False\n",
    "\n",
    "is_syllabus = training_df.tags.apply(is_syllabus_tag)\n",
    "positive_examples_df = training_df[is_syllabus]\n",
    "negative_examples_df = training_df[~is_syllabus]\n",
    "\n",
    "print('Positive examples: {}, negative examples: {}'.format(positive_examples_df.shape, negative_examples_df.shape))"
   ]
  },
  {
   "cell_type": "markdown",
   "metadata": {},
   "source": [
    "We tokenize the syllabus text in the positive and negative examples, and featurize them for a classifier.\n",
    "\n",
    "First pass: tf-idf features of text tokens, classified using naive bayes."
   ]
  },
  {
   "cell_type": "code",
   "execution_count": 18,
   "metadata": {
    "collapsed": false
   },
   "outputs": [],
   "source": [
    "text_clf = Pipeline([('vect', CountVectorizer()),\n",
    "                      ('tfidf', TfidfTransformer()),\n",
    "                      ('clf', MultinomialNB()),\n",
    "])"
   ]
  },
  {
   "cell_type": "code",
   "execution_count": 29,
   "metadata": {
    "collapsed": false
   },
   "outputs": [
    {
     "data": {
      "text/plain": [
       "0.86397151235860914"
      ]
     },
     "execution_count": 29,
     "metadata": {},
     "output_type": "execute_result"
    }
   ],
   "source": [
    "kf = KFold(n=len(training_df), n_folds=5, shuffle=True, random_state=983214)\n",
    "cv_results = cross_val_score(text_clf, training_df.text.values, is_syllabus.values, cv=kf)\n",
    "cv_results.mean()"
   ]
  },
  {
   "cell_type": "code",
   "execution_count": 31,
   "metadata": {
    "collapsed": false
   },
   "outputs": [
    {
     "data": {
      "text/plain": [
       "0.94218518605467172"
      ]
     },
     "execution_count": 31,
     "metadata": {},
     "output_type": "execute_result"
    }
   ],
   "source": [
    "kf = KFold(n=len(training_df), n_folds=5, shuffle=True, random_state=983214)\n",
    "cv_results = cross_val_score(text_clf, training_df.text.values, is_syllabus.values, cv=kf, scoring='roc_auc')\n",
    "cv_results.mean()"
   ]
  },
  {
   "cell_type": "markdown",
   "metadata": {},
   "source": [
    "We get 86.4% mean accuracy and 94.22% mean ROC using out-of-the-box features and the multinomial NB classifier. Let's try tuning the feature set a little."
   ]
  },
  {
   "cell_type": "code",
   "execution_count": 24,
   "metadata": {
    "collapsed": false
   },
   "outputs": [
    {
     "name": "stdout",
     "output_type": "stream",
     "text": [
      "Fitting 3 folds for each of 6 candidates, totalling 18 fits\n"
     ]
    },
    {
     "name": "stderr",
     "output_type": "stream",
     "text": [
      "[Parallel(n_jobs=-1)]: Done   1 jobs       | elapsed:   10.3s\n",
      "[Parallel(n_jobs=-1)]: Done  12 out of  18 | elapsed:  1.3min remaining:   38.8s\n",
      "[Parallel(n_jobs=-1)]: Done  18 out of  18 | elapsed:  1.8min finished\n"
     ]
    },
    {
     "name": "stdout",
     "output_type": "stream",
     "text": [
      "Best score: 0.845\n",
      "Best parameters set:\n",
      "\tvect__max_df: 0.5\n",
      "\tvect__ngram_range: (1, 2)\n"
     ]
    }
   ],
   "source": [
    "parameters = {\n",
    "    'vect__max_df': (0.5, 0.75, 1.0),\n",
    "    #'vect__max_features': (None, 5000, 10000, 50000),\n",
    "    'vect__ngram_range': ((1, 1), (1, 2)),  # unigrams or bigrams\n",
    "    #'tfidf__use_idf': (True, False),\n",
    "    #'tfidf__norm': ('l1', 'l2')\n",
    "}\n",
    "\n",
    "grid_search = GridSearchCV(text_clf, parameters, n_jobs=-1, verbose=1)\n",
    "grid_search.fit(training_df.text.values, is_syllabus.values)\n",
    "print(\"Best score: %0.3f\" % grid_search.best_score_)\n",
    "print(\"Best parameters set:\")\n",
    "best_parameters = grid_search.best_estimator_.get_params()\n",
    "for param_name in sorted(parameters.keys()):\n",
    "    print(\"\\t%s: %r\" % (param_name, best_parameters[param_name]))"
   ]
  },
  {
   "cell_type": "markdown",
   "metadata": {},
   "source": [
    "In this grid search across parameters, having a cutoff that eliminates words with document frequency above 0.5 is more effective than cutoffs at 0.75 and 1. Bigrams also perform better than unigrams. The best score here is lower than the mean score in our stratified run above, so more tests are warranted."
   ]
  },
  {
   "cell_type": "code",
   "execution_count": null,
   "metadata": {
    "collapsed": true
   },
   "outputs": [],
   "source": [
    "fprs = []\n",
    "tprs = []\n",
    "thresholds = []\n",
    "\n",
    "kf = KFold(n=len(training_df), n_folds=5, shuffle=True, random_state=983214)\n",
    "for train, test in kf:\n",
    "    text_clf.fit(training_df.text[train], is_syllabus[train])\n",
    "    predictions = text_clf.predict_proba(training_df.text[test])\n",
    "\n",
    "    fpr, tpr, threshold = roc_curve(is_syllabus[test], predictions[:, 1])\n",
    "    fprs.append(fpr)\n",
    "    tprs.append(tpr)\n",
    "    thresholds.append(threshold)"
   ]
  },
  {
   "cell_type": "markdown",
   "metadata": {},
   "source": [
    "One question we might ask is: is this good or bad?\n",
    "\n",
    "The classifier returns a probability between 0 and 1 that a given document is a syllabus. In the ROC curves below, the movement of the line represents the changing false positive and true positive rates for different cutoff values. For example, if the cutoff is 0, then all documents with a probability greater than 0 of being a syllabus (i.e., all documents) will be classified as syllabi, leading us to have perfect precision (TPR=1) but abysmal recall (FPR=1) -- the upper right corner.\n",
    "\n",
    "This chart shows us that we can choose a threshold somewhere on that line. For example, we can achieve roughly 90% precision with only 20% false positives. How useful this will be in practice will depend on the ratio of syllabi to non-syllabi in the corpus, and our tolerance for errors of either kind."
   ]
  },
  {
   "cell_type": "code",
   "execution_count": 70,
   "metadata": {
    "collapsed": false
   },
   "outputs": [
    {
     "data": {
      "image/png": "[encoded data removed]",
      "text/plain": [
       "<matplotlib.figure.Figure at 0x7f54c08a6c88>"
      ]
     },
     "metadata": {},
     "output_type": "display_data"
    }
   ],
   "source": [
    "for i in range(len(fprs)):\n",
    "    plt.plot(fprs[i], tprs[i], lw=1)\n",
    "\n",
    "plt.show()"
   ]
  },
  {
   "cell_type": "code",
   "execution_count": 85,
   "metadata": {
    "collapsed": false
   },
   "outputs": [
    {
     "data": {
      "image/png": "[encoded data removed]",
      "text/plain": [
       "<matplotlib.figure.Figure at 0x7f54bdc722e8>"
      ]
     },
     "metadata": {},
     "output_type": "display_data"
    }
   ],
   "source": [
    "nb_mean_fpr = [np.mean(x) for x in zip(*fprs)]\n",
    "nb_mean_tpr = [np.mean(x) for x in zip(*tprs)]\n",
    "\n",
    "nb_auc = auc(nb_mean_fpr, nb_mean_tpr)\n",
    "\n",
    "plt.plot(nb_mean_fpr, nb_mean_tpr, lw=1, label='NB (AUC = %0.2f)' % nb_auc)\n",
    "plt.xlabel('False Positive Rate')\n",
    "plt.ylabel('True Positive Rate')\n",
    "plt.title('Classifier Performance Evaluation')\n",
    "plt.legend(loc=\"lower right\")\n",
    "plt.show()"
   ]
  }
 ],
 "metadata": {
  "kernelspec": {
   "display_name": "Python 3",
   "language": "python",
   "name": "python3"
  },
  "language_info": {
   "codemirror_mode": {
    "name": "ipython",
    "version": 3
   },
   "file_extension": ".py",
   "mimetype": "text/x-python",
   "name": "python",
   "nbconvert_exporter": "python",
   "pygments_lexer": "ipython3",
   "version": "3.4.0"
  }
 },
 "nbformat": 4,
 "nbformat_minor": 0
}
